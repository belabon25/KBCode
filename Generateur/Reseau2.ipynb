{
  "cells": [
    {
      "cell_type": "code",
      "execution_count": null,
      "metadata": {
        "id": "kIl-GupPGwBv"
      },
      "outputs": [],
      "source": [
        "import numpy as np\n",
        "import turtle\n",
        "import PIL\n",
        "import matplotlib.pyplot as plt\n",
        "\n"
      ]
    },
    {
      "cell_type": "code",
      "execution_count": null,
      "metadata": {
        "colab": {
          "base_uri": "https://localhost:8080/"
        },
        "id": "cKhUHheLGwBy",
        "outputId": "d7fbb82e-9228-4282-b5f9-d52c204fb162"
      },
      "outputs": [
        {
          "output_type": "stream",
          "name": "stdout",
          "text": [
            "76\n"
          ]
        }
      ],
      "source": [
        "caractere = \"L\"\n",
        "code = ord(caractere)\n",
        "print(code)"
      ]
    },
    {
      "cell_type": "code",
      "execution_count": null,
      "metadata": {
        "colab": {
          "base_uri": "https://localhost:8080/"
        },
        "id": "krgWr1ifGwB0",
        "outputId": "11bec438-b253-41a4-9b6f-56803e3b47c0"
      },
      "outputs": [
        {
          "output_type": "stream",
          "name": "stdout",
          "text": [
            "L\n"
          ]
        }
      ],
      "source": [
        "code = 76\n",
        "caractere = chr(code)\n",
        "print(caractere)"
      ]
    },
    {
      "cell_type": "code",
      "execution_count": null,
      "metadata": {
        "colab": {
          "base_uri": "https://localhost:8080/"
        },
        "id": "kbVlxSUEGwB0",
        "outputId": "99e2a0c8-a952-42d3-d893-c52dcb92af52"
      },
      "outputs": [
        {
          "output_type": "stream",
          "name": "stdout",
          "text": [
            "10110\n"
          ]
        }
      ],
      "source": [
        "def base2(n):\n",
        "    return bin(n)[2:]\n",
        "print(base2(22))"
      ]
    },
    {
      "cell_type": "code",
      "execution_count": null,
      "metadata": {
        "colab": {
          "base_uri": "https://localhost:8080/"
        },
        "id": "_1-mynQEGwB1",
        "outputId": "9bb5a6ce-1ba0-431c-a0dc-e1773eacacc6"
      },
      "outputs": [
        {
          "output_type": "stream",
          "name": "stdout",
          "text": [
            "6\n"
          ]
        }
      ],
      "source": [
        "def base10(n):\n",
        "    return int(str(n), 2)\n",
        "print(base10(110))"
      ]
    },
    {
      "cell_type": "code",
      "execution_count": null,
      "metadata": {
        "colab": {
          "base_uri": "https://localhost:8080/"
        },
        "id": "GxzTsAv4GwB1",
        "outputId": "88cdb9d1-e472-4d72-90da-cf072178d09e"
      },
      "outputs": [
        {
          "output_type": "stream",
          "name": "stdout",
          "text": [
            "['G', 'R', 'R', 'G']\n",
            "[['G', 'R', 'R', 'B'], ['G', 'B', 'W', 'W'], ['G', 'B', 'W', 'B'], ['G', 'B', 'B', 'B'], ['G', 'B', 'W', 'W'], ['G', 'W', 'G', 'G'], ['G', 'W', 'R', 'B']]\n",
            "[[(255, 255, 255), (255, 255, 255), (255, 255, 255), (255, 255, 255), (255, 255, 255), (255, 255, 255), (255, 255, 255), (255, 255, 255)], [(255, 255, 255), (255, 0, 0), (255, 0, 0), (255, 0, 0), (255, 0, 0), (255, 0, 0), (255, 0, 0), (255, 255, 255)], [(255, 255, 255), (255, 0, 0), (255, 255, 255), (255, 255, 255), (255, 255, 255), (255, 255, 255), (255, 0, 0), (255, 255, 255)], [(255, 255, 255), (255, 0, 0), (255, 255, 255), (255, 0, 0), (255, 0, 0), (255, 255, 255), (255, 0, 0), (255, 255, 255)], [(255, 255, 255), (255, 0, 0), (255, 255, 255), (255, 0, 0), (255, 0, 0), (255, 255, 255), (255, 0, 0), (255, 255, 255)], [(255, 255, 255), (255, 0, 0), (255, 255, 255), (255, 255, 255), (255, 255, 255), (255, 255, 255), (255, 0, 0), (255, 255, 255)], [(255, 255, 255), (255, 0, 0), (255, 0, 0), (255, 0, 0), (255, 0, 0), (255, 0, 0), (255, 0, 0), (255, 255, 255)], [(255, 255, 255), (255, 255, 255), (255, 255, 255), (255, 255, 255), (255, 255, 255), (255, 255, 255), (255, 255, 255), (255, 255, 255)], [(255, 255, 255), (255, 255, 255), (255, 255, 255), (255, 255, 255), (255, 255, 255), (255, 255, 255), (255, 255, 255), (255, 255, 255)], [(255, 255, 255), (255, 0, 0), (255, 0, 0), (255, 0, 0), (255, 0, 0), (255, 0, 0), (255, 0, 0), (255, 255, 255)], [(255, 255, 255), (255, 0, 0), (255, 255, 255), (255, 255, 255), (255, 255, 255), (255, 255, 255), (255, 0, 0), (255, 255, 255)], [(255, 255, 255), (255, 0, 0), (255, 255, 255), (255, 0, 0), (255, 0, 0), (255, 255, 255), (255, 0, 0), (255, 255, 255)], [(255, 255, 255), (255, 0, 0), (255, 255, 255), (255, 0, 0), (255, 0, 0), (255, 255, 255), (255, 0, 0), (255, 255, 255)], [(255, 255, 255), (255, 0, 0), (255, 255, 255), (255, 255, 255), (255, 255, 255), (255, 255, 255), (255, 0, 0), (255, 255, 255)], [(255, 255, 255), (255, 0, 0), (255, 0, 0), (255, 0, 0), (255, 0, 0), (255, 0, 0), (255, 0, 0), (255, 255, 255)], [(255, 255, 255), (255, 255, 255), (255, 255, 255), (255, 255, 255), (255, 255, 255), (255, 255, 255), (255, 255, 255), (255, 255, 255)]]\n",
            "['00', (0, 255, 0), (255, 0, 0), (255, 255, 255), (255, 0, 0), '00', (0, 255, 0), (0, 0, 255), (0, 255, 0), (0, 255, 0), '00', (0, 0, 255), (255, 0, 0), (255, 0, 0), '00', (0, 255, 0), (255, 0, 0), (0, 0, 255), (255, 255, 255), '00', (0, 255, 0), (255, 0, 0), (255, 0, 0), (0, 0, 255), '00', (0, 255, 0), (255, 0, 0), (255, 0, 0), (255, 255, 255), '00', (0, 255, 0), (0, 0, 255), (255, 255, 255), (255, 255, 255), '00', (0, 255, 0), (0, 0, 255), (0, 255, 0), (255, 0, 0), '00', (0, 255, 0), (0, 0, 255), (0, 255, 0), (0, 255, 0), '00', (0, 0, 255), (255, 0, 0), (255, 0, 0), '00', (0, 255, 0), (0, 0, 255), (0, 255, 0), (0, 255, 0), '00', (0, 255, 0), (255, 255, 255), (255, 0, 0), (255, 255, 255), '00', (0, 255, 0), (255, 255, 255), (0, 255, 0), (255, 0, 0), '00', (0, 0, 255), (255, 0, 0), (255, 0, 0), '00', (0, 255, 0), (0, 0, 255), (255, 255, 255), (255, 0, 0), '00', (0, 0, 255), (0, 255, 0), (255, 255, 255), '00', (0, 255, 0), (0, 0, 255), (255, 0, 0), (0, 255, 0), '00', (0, 255, 0), (255, 255, 255), (0, 255, 0), (0, 0, 255), '00', (0, 255, 0), (0, 0, 255), (0, 255, 0), (0, 255, 0), '00', (0, 255, 0), (0, 0, 255), (255, 255, 255), (0, 0, 255), '00', (0, 255, 0), (0, 0, 255), (0, 0, 255), (0, 255, 0), '00', (0, 255, 0), (255, 255, 255), (255, 0, 0), (0, 0, 255), '00', (0, 0, 255), (255, 0, 0), (255, 0, 0), '00', (0, 255, 0), (0, 0, 255), (0, 255, 0), (255, 0, 0), '00', (0, 255, 0), (0, 0, 255), (0, 255, 0), (0, 255, 0), '00', (0, 255, 0), (255, 255, 255), (255, 0, 0), (255, 255, 255), '00', (0, 0, 255), (255, 0, 0), (255, 0, 0), '00', (0, 255, 0), (0, 255, 0), (255, 0, 0), (0, 255, 0), '00', (0, 255, 0), (0, 255, 0), (255, 0, 0), (0, 0, 255), '00', (0, 255, 0), (255, 0, 0), (255, 0, 0), (255, 255, 255), '00', (0, 255, 0), (0, 0, 255), (255, 255, 255), (255, 255, 255), '00', (0, 255, 0), (0, 0, 255), (0, 255, 0), (255, 0, 0), '00', (0, 255, 0), (0, 0, 255), (0, 255, 0), (0, 255, 0), '00', (0, 255, 0), (255, 255, 255), (255, 0, 0), (255, 255, 255), '00', (0, 0, 255), (255, 0, 0), (255, 0, 0), '00', (0, 0, 255), (255, 0, 0), (0, 255, 0)]\n"
          ]
        }
      ],
      "source": [
        "def convertire(lettre):\n",
        "    if (lettre == '00'):\n",
        "        return 'R'\n",
        "    if (lettre == '01'):\n",
        "        return 'G'\n",
        "    if (lettre == '10'):\n",
        "        return 'B'\n",
        "    if (lettre == '11'):\n",
        "        return 'W'\n",
        "    \n",
        "def lire_lettre(caractere):\n",
        "    n = ord(caractere)\n",
        "    b = base2(n)\n",
        "    c = ''\n",
        "    i = 0\n",
        "    tab = []\n",
        "    if (len(b)%2 != 0):\n",
        "        c = \"0\"\n",
        "    c += str(b)\n",
        "    for i in range (0, len(c), 2):\n",
        "        tab.append(convertire(c[i] + c[i+1]))\n",
        "    if(len(tab) < 4):\n",
        "      tab.append('R')\n",
        "    return tab\n",
        "        \n",
        "print(lire_lettre('A'))\n",
        "\n",
        "\n",
        "def mot(chaine):\n",
        "    charMot = []\n",
        "    for j in range(0, len(chaine)):\n",
        "        charMot.append(lire_lettre(chaine[j]))\n",
        "    return charMot\n",
        "\n",
        "\n",
        "def KBcode(Mat):\n",
        "    KB = Mat\n",
        "    for i in range(0,len(Mat)):\n",
        "        for j in range(0, len(Mat[i])):\n",
        "            if (Mat[i][j] == 'R'):\n",
        "                KB[i][j] = (255, 0, 0)\n",
        "            if (Mat[i][j] == 'G'):\n",
        "                KB[i][j] = (0, 255, 0)\n",
        "            if (Mat[i][j] == 'B'):\n",
        "                KB[i][j] = (0, 0, 255)\n",
        "            if (Mat[i][j] == 'W'):\n",
        "                KB[i][j] = (255, 255, 255)\n",
        "    return KB\n",
        "            \n",
        "\"\"\"def transpose(Tab):\n",
        "    mat_t = []\n",
        "    for i in range(0, len(Tab)):\n",
        "        for j in range(0, len(Tab[i])):\n",
        "            mat_t.append(Tab[i][j])\n",
        "    return mat_t\"\"\"\n",
        "              \n",
        "    \n",
        "carre = [[\"W\",\"W\",\"W\",\"W\",\"W\",\"W\",\"W\",\"W\"],\n",
        "         [\"W\",\"R\",\"R\",\"R\",\"R\",\"R\",\"R\",\"W\"],\n",
        "         [\"W\",\"R\",\"W\",\"W\",\"W\",\"W\",\"R\",\"W\"],\n",
        "         [\"W\",\"R\",\"W\",\"R\",\"R\",\"W\",\"R\",\"W\"],\n",
        "         [\"W\",\"R\",\"W\",\"R\",\"R\",\"W\",\"R\",\"W\"],\n",
        "         [\"W\",\"R\",\"W\",\"W\",\"W\",\"W\",\"R\",\"W\"],\n",
        "         [\"W\",\"R\",\"R\",\"R\",\"R\",\"R\",\"R\",\"W\"],\n",
        "         [\"W\",\"W\",\"W\",\"W\",\"W\",\"W\",\"W\",\"W\"],\n",
        "         [\"W\",\"W\",\"W\",\"W\",\"W\",\"W\",\"W\",\"W\"],\n",
        "         [\"W\",\"R\",\"R\",\"R\",\"R\",\"R\",\"R\",\"W\"],\n",
        "         [\"W\",\"R\",\"W\",\"W\",\"W\",\"W\",\"R\",\"W\"],\n",
        "         [\"W\",\"R\",\"W\",\"R\",\"R\",\"W\",\"R\",\"W\"],\n",
        "         [\"W\",\"R\",\"W\",\"R\",\"R\",\"W\",\"R\",\"W\"],\n",
        "         [\"W\",\"R\",\"W\",\"W\",\"W\",\"W\",\"R\",\"W\"],\n",
        "         [\"W\",\"R\",\"R\",\"R\",\"R\",\"R\",\"R\",\"W\"],\n",
        "         [\"W\",\"W\",\"W\",\"W\",\"W\",\"W\",\"W\",\"W\"]]\n",
        "                            \n",
        "            \n",
        "Mat = mot(\"Bonjour\")\n",
        "KB = KBcode(Mat)\n",
        "#KBC = transpose(KB)\n",
        "KB = KBcode(carre)\n",
        "\n",
        "print(mot(\"Bonjour\"))\n",
        "print(KB)\n",
        "print(KBC)"
      ]
    },
    {
      "cell_type": "code",
      "execution_count": null,
      "metadata": {
        "colab": {
          "base_uri": "https://localhost:8080/",
          "height": 406
        },
        "id": "4GdGoe1SGwB2",
        "outputId": "236b47d1-51df-4aaa-e1c0-8568a2826f41"
      },
      "outputs": [
        {
          "output_type": "display_data",
          "data": {
            "text/plain": [
              "<Figure size 640x480 with 1 Axes>"
            ],
            "image/png": "[encoded data removed]"
          },
          "metadata": {}
        }
      ],
      "source": [
        "plt.imshow(Mat)\n",
        "plt.axis('off')\n",
        "plt.show()"
      ]
    },
    {
      "cell_type": "code",
      "execution_count": null,
      "metadata": {
        "colab": {
          "base_uri": "https://localhost:8080/",
          "height": 406
        },
        "id": "4In8geR7GwB2",
        "outputId": "3f522b8c-95a1-4f1b-8bdb-9b5dde079d74"
      },
      "outputs": [
        {
          "output_type": "display_data",
          "data": {
            "text/plain": [
              "<Figure size 640x480 with 1 Axes>"
            ],
            "image/png": "[encoded data removed]"
          },
          "metadata": {}
        }
      ],
      "source": [
        "plt.imshow(carre)\n",
        "plt.axis('off')\n",
        "plt.show()"
      ]
    },
    {
      "cell_type": "code",
      "execution_count": null,
      "metadata": {
        "colab": {
          "base_uri": "https://localhost:8080/",
          "height": 53
        },
        "id": "3tIIRaiyGwB3",
        "outputId": "af4147f9-c4a3-4ec3-ac41-ab688ef489d8"
      },
      "outputs": [
        {
          "output_type": "stream",
          "name": "stdout",
          "text": [
            "[[0], [0], [0], [0], [0], [0], [0], [0], [0], [0], [0], [0], [0], [0], [0], [0]]\n"
          ]
        },
        {
          "output_type": "execute_result",
          "data": {
            "text/plain": [
              "'t = transpose(Mat)\\nKB = KBcode(t)\\nKB = KBcode(t)'"
            ],
            "application/vnd.google.colaboratory.intrinsic+json": {
              "type": "string"
            }
          },
          "metadata": {},
          "execution_count": 102
        }
      ],
      "source": [
        "def transpose(Tab):\n",
        "    res = [[0] * 1 for i in range(16)]\n",
        "    \"\"\"for i in range(0, len(16)):\n",
        "        for j in range(0, len(Tab[i])):\"\"\"\n",
        "    return res\n",
        "    \n",
        "\n",
        "print(transpose(Mat))\n",
        "\"\"\"t = transpose(Mat)\n",
        "KB = KBcode(t)\n",
        "KB = KBcode(t)\"\"\""
      ]
    }
  ],
  "metadata": {
    "kernelspec": {
      "display_name": "py310",
      "language": "python",
      "name": "py310"
    },
    "language_info": {
      "codemirror_mode": {
        "name": "ipython",
        "version": 3
      },
      "file_extension": ".py",
      "mimetype": "text/x-python",
      "name": "python",
      "nbconvert_exporter": "python",
      "pygments_lexer": "ipython3",
      "version": "3.7.4"
    },
    "colab": {
      "provenance": []
    }
  },
  "nbformat": 4,
  "nbformat_minor": 0
}